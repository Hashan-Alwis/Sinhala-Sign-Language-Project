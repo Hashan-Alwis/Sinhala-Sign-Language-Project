{
 "cells": [
  {
   "cell_type": "code",
   "execution_count": 1,
   "metadata": {},
   "outputs": [],
   "source": [
    "from tensorflow.keras.models import load_model\n",
    "from Commonfunctions import *\n",
    "from tensorflow.keras.utils import to_categorical\n",
    "from sklearn.metrics import accuracy_score, classification_report, confusion_matrix"
   ]
  },
  {
   "cell_type": "code",
   "execution_count": 2,
   "metadata": {},
   "outputs": [
    {
     "name": "stderr",
     "output_type": "stream",
     "text": [
      "WARNING:absl:Compiled the loaded model, but the compiled metrics have yet to be built. `model.compile_metrics` will be empty until you train or evaluate the model.\n"
     ]
    }
   ],
   "source": [
    "# model = load_model('3nd_best_model.h5')\n",
    "model = load_model('all_frame_model.h5')"
   ]
  },
  {
   "cell_type": "code",
   "execution_count": 3,
   "metadata": {},
   "outputs": [
    {
     "name": "stdout",
     "output_type": "stream",
     "text": [
      "['no sign' 'none' 'ආසන්න වෙලා' 'ඉක්මනින්' 'ඉබ්බා' 'ඉලක්කයට' 'ඒ නිසා' 'ඔබ'\n",
      " 'කපුටාට' 'කපුටෙක්' 'කෑමක්' 'කියලා' 'කේජු කෑල්ලක්' 'දවසක්' 'දිනුවා'\n",
      " 'පරක්කු උණා' 'බඩගින්නෙන්' 'යන බව' 'යනවා' 'සිටියා' 'සිනහ උණා' 'සෙමෙන්'\n",
      " 'සෙව්වා' 'හම්බුනා' 'හාවා' 'හාවාට' 'හාවෙක්' 'හිතනවට වඩා']\n"
     ]
    }
   ],
   "source": [
    "# DATA_PATH = os.path.join('DataSetw')\n",
    "\n",
    "DATA_PATH = os.path.join('Sinhala_Word') #for 20 frame model\n",
    "\n",
    "sign_word = [name for name in os.listdir(DATA_PATH) if os.path.isdir(os.path.join(DATA_PATH, name))]\n",
    "\n",
    "sign_word = np.array(sign_word)\n",
    "\n",
    "print(sign_word)"
   ]
  },
  {
   "cell_type": "code",
   "execution_count": 4,
   "metadata": {},
   "outputs": [
    {
     "data": {
      "text/plain": [
       "{'no sign': 0,\n",
       " 'none': 1,\n",
       " 'ආසන්න වෙලා': 2,\n",
       " 'ඉක්මනින්': 3,\n",
       " 'ඉබ්බා': 4,\n",
       " 'ඉලක්කයට': 5,\n",
       " 'ඒ නිසා': 6,\n",
       " 'ඔබ': 7,\n",
       " 'කපුටාට': 8,\n",
       " 'කපුටෙක්': 9,\n",
       " 'කෑමක්': 10,\n",
       " 'කියලා': 11,\n",
       " 'කේජු කෑල්ලක්': 12,\n",
       " 'දවසක්': 13,\n",
       " 'දිනුවා': 14,\n",
       " 'පරක්කු උණා': 15,\n",
       " 'බඩගින්නෙන්': 16,\n",
       " 'යන බව': 17,\n",
       " 'යනවා': 18,\n",
       " 'සිටියා': 19,\n",
       " 'සිනහ උණා': 20,\n",
       " 'සෙමෙන්': 21,\n",
       " 'සෙව්වා': 22,\n",
       " 'හම්බුනා': 23,\n",
       " 'හාවා': 24,\n",
       " 'හාවාට': 25,\n",
       " 'හාවෙක්': 26,\n",
       " 'හිතනවට වඩා': 27}"
      ]
     },
     "execution_count": 4,
     "metadata": {},
     "output_type": "execute_result"
    }
   ],
   "source": [
    "label_map = {label:num for num, label in enumerate(sign_word)}\n",
    "label_map"
   ]
  },
  {
   "cell_type": "code",
   "execution_count": 8,
   "metadata": {},
   "outputs": [],
   "source": [
    "no_sequences=15\n",
    "sequence_length = 89"
   ]
  },
  {
   "cell_type": "code",
   "execution_count": 9,
   "metadata": {},
   "outputs": [],
   "source": [
    "sequences, labels = [], []\n",
    "for action in sign_word:\n",
    "    for sequence in range(no_sequences):\n",
    "        window = []\n",
    "        # for frame_num in range(60,sequence_length, 6):\n",
    "        for frame_num in range(50,sequence_length): # for 20 frame model\n",
    "            res = np.load(os.path.join(DATA_PATH, action, str(sequence), \"{}.npy\".format(frame_num)))\n",
    "            window.append(res)\n",
    "        sequences.append(window)\n",
    "        labels.append(label_map[action])"
   ]
  },
  {
   "cell_type": "code",
   "execution_count": 7,
   "metadata": {},
   "outputs": [],
   "source": [
    "# sign_word = ['ආසන්න වෙලා', 'බඩගින්නෙන්', 'දවසක්', 'දිනුවා', 'ඒ නිසා', 'හම්බුනා', 'හාවා',\n",
    "#  'හාවාට', 'හාවෙක්', 'හිතනවට වඩා', 'ඉබ්බා', 'ඉක්මනින්', 'ඉලක්කයට',\n",
    "#  'කපුටාට', 'කපුටෙක්', 'කේජු කෑල්ලක්', 'කෑමක්', 'කියලා', 'no sign', 'none',\n",
    "#  'ඔබ', 'පරක්කු උණා', 'සෙමෙන්', 'සෙව්වා', ' සිනහ උණා', 'සිටියා', 'යන බව',\n",
    "#  'යනවා']"
   ]
  },
  {
   "cell_type": "code",
   "execution_count": 10,
   "metadata": {},
   "outputs": [
    {
     "data": {
      "text/plain": [
       "(420, 39, 1662)"
      ]
     },
     "execution_count": 10,
     "metadata": {},
     "output_type": "execute_result"
    }
   ],
   "source": [
    "np.array(sequences).shape"
   ]
  },
  {
   "cell_type": "code",
   "execution_count": 11,
   "metadata": {},
   "outputs": [],
   "source": [
    "y = to_categorical(labels).astype(int)"
   ]
  },
  {
   "cell_type": "code",
   "execution_count": 12,
   "metadata": {},
   "outputs": [],
   "source": [
    "X = np.array(sequences)"
   ]
  },
  {
   "cell_type": "code",
   "execution_count": 13,
   "metadata": {},
   "outputs": [
    {
     "name": "stdout",
     "output_type": "stream",
     "text": [
      "\u001b[1m14/14\u001b[0m \u001b[32m━━━━━━━━━━━━━━━━━━━━\u001b[0m\u001b[37m\u001b[0m \u001b[1m3s\u001b[0m 148ms/step\n"
     ]
    }
   ],
   "source": [
    "res = model.predict(X)"
   ]
  },
  {
   "cell_type": "code",
   "execution_count": 14,
   "metadata": {},
   "outputs": [
    {
     "data": {
      "text/plain": [
       "'ආසන්න වෙලා'"
      ]
     },
     "execution_count": 14,
     "metadata": {},
     "output_type": "execute_result"
    }
   ],
   "source": [
    "sign_word[np.argmax(res[32])]"
   ]
  },
  {
   "cell_type": "code",
   "execution_count": 15,
   "metadata": {},
   "outputs": [
    {
     "data": {
      "text/plain": [
       "'ආසන්න වෙලා'"
      ]
     },
     "execution_count": 15,
     "metadata": {},
     "output_type": "execute_result"
    }
   ],
   "source": [
    "sign_word[np.argmax(y[32])]"
   ]
  },
  {
   "cell_type": "code",
   "execution_count": 16,
   "metadata": {},
   "outputs": [],
   "source": [
    "ytrue = np.argmax(y, axis=1).tolist()\n",
    "yhat = np.argmax(res, axis=1).tolist()"
   ]
  },
  {
   "cell_type": "code",
   "execution_count": 17,
   "metadata": {},
   "outputs": [
    {
     "data": {
      "text/plain": [
       "0.9595238095238096"
      ]
     },
     "execution_count": 17,
     "metadata": {},
     "output_type": "execute_result"
    }
   ],
   "source": [
    "accuracy_score(ytrue, yhat)"
   ]
  },
  {
   "cell_type": "markdown",
   "metadata": {},
   "source": [
    "### For single word"
   ]
  },
  {
   "cell_type": "code",
   "execution_count": 21,
   "metadata": {},
   "outputs": [
    {
     "name": "stdout",
     "output_type": "stream",
     "text": [
      "action captured\n",
      "\u001b[1m1/1\u001b[0m \u001b[32m━━━━━━━━━━━━━━━━━━━━\u001b[0m\u001b[37m\u001b[0m \u001b[1m0s\u001b[0m 385ms/step\n",
      "හාවාට\n"
     ]
    }
   ],
   "source": [
    "cap = cv2.VideoCapture(0)\n",
    "\n",
    "sequence =[]\n",
    "\n",
    "\n",
    "with mp_holistic.Holistic(min_detection_confidence=0.5, min_tracking_confidence=0.5) as holistic:\n",
    "    start_time = time.time()\n",
    "    display_text = 'READY'\n",
    "    text_duration = 1  \n",
    "    text_sequence = ['READY', '1', '2', '3', 'GO']\n",
    "    text_index = 0\n",
    "\n",
    "    while cap.isOpened():\n",
    "        try:\n",
    "            ret, frame = cap.read()\n",
    "            if not ret:\n",
    "                print(\"Failed to grab frame\")\n",
    "                break\n",
    "\n",
    "            \n",
    "            if time.time() - start_time > text_duration:\n",
    "                text_index += 1\n",
    "                start_time = time.time()\n",
    "\n",
    "            \n",
    "            if text_index < len(text_sequence):\n",
    "                display_text = text_sequence[text_index]\n",
    "            else:\n",
    "                display_text = None\n",
    "\n",
    "            image, results = mediapipe_detection(frame, holistic)\n",
    "            draw_landmarks(image, results)\n",
    "\n",
    "            \n",
    "            if display_text:\n",
    "                cv2.putText(image, display_text, (200, 200),\n",
    "                            cv2.FONT_HERSHEY_SIMPLEX, 3, (0, 255, 255), 4, cv2.LINE_AA)\n",
    "            else:\n",
    "                \n",
    "                keypoints = extract_keypoints(results)\n",
    "                # print(keypoints)\n",
    "                sequence.append(keypoints)\n",
    "                if len(sequence) >= 39:\n",
    "                    break\n",
    "\n",
    "                \n",
    "\n",
    "            cv2.imshow('OpenCV Feed', image)    \n",
    "\n",
    "            if cv2.waitKey(10) & 0xFF == ord('q'):\n",
    "                break\n",
    "\n",
    "        except Exception as e:\n",
    "            print(\"An error occurred:\", e)\n",
    "            pass\n",
    "    cap.release()\n",
    "    cv2.destroyAllWindows()\n",
    "\n",
    "# print(len(sequence))\n",
    "print('action captured')\n",
    "\n",
    "window = []\n",
    "# for frame_num in range(10,30, 6):\n",
    "for frame_num in range(0,39): # for 20 frame model\n",
    "    # print(frame_num)\n",
    "    window.append(sequence[frame_num])\n",
    "\n",
    "window =np.array(window)\n",
    "reshaped_window = np.expand_dims(window, axis=0)\n",
    "\n",
    "prediction =model.predict(np.array(reshaped_window))\n",
    "\n",
    "print(sign_word[np.argmax(prediction)])\n",
    "\n"
   ]
  },
  {
   "cell_type": "markdown",
   "metadata": {},
   "source": [
    "### For sentence"
   ]
  },
  {
   "cell_type": "code",
   "execution_count": 22,
   "metadata": {},
   "outputs": [
    {
     "name": "stdout",
     "output_type": "stream",
     "text": [
      "action captured\n",
      "\u001b[1m1/1\u001b[0m \u001b[32m━━━━━━━━━━━━━━━━━━━━\u001b[0m\u001b[37m\u001b[0m \u001b[1m0s\u001b[0m 413ms/step\n",
      "\u001b[1m1/1\u001b[0m \u001b[32m━━━━━━━━━━━━━━━━━━━━\u001b[0m\u001b[37m\u001b[0m \u001b[1m0s\u001b[0m 346ms/step\n",
      "\u001b[1m1/1\u001b[0m \u001b[32m━━━━━━━━━━━━━━━━━━━━\u001b[0m\u001b[37m\u001b[0m \u001b[1m0s\u001b[0m 249ms/step\n",
      "\u001b[1m1/1\u001b[0m \u001b[32m━━━━━━━━━━━━━━━━━━━━\u001b[0m\u001b[37m\u001b[0m \u001b[1m1s\u001b[0m 1s/step\n",
      "[]\n"
     ]
    }
   ],
   "source": [
    "sequence = []\n",
    "sub_sequence =[]\n",
    "sentence = []\n",
    "predictions = []\n",
    "threshold = 0.3\n",
    "\n",
    "cap = cv2.VideoCapture(0)\n",
    "\n",
    "\n",
    "with mp_holistic.Holistic(min_detection_confidence=0.5, min_tracking_confidence=0.5) as holistic:\n",
    "    start_time = time.time()\n",
    "    display_text = 'READY'\n",
    "    text_duration = 1  \n",
    "    text_sequence = ['READY', '1', '2', '3', 'GO']\n",
    "    text_index = 0\n",
    "\n",
    "    while cap.isOpened():\n",
    "        try:\n",
    "            ret, frame = cap.read()\n",
    "            if not ret:\n",
    "                print(\"Failed to grab frame\")\n",
    "                break\n",
    "\n",
    "            \n",
    "            if time.time() - start_time > text_duration:\n",
    "                text_index += 1\n",
    "                start_time = time.time()\n",
    "\n",
    "            \n",
    "            if text_index < len(text_sequence):\n",
    "                display_text = text_sequence[text_index]\n",
    "            else:\n",
    "                display_text = None\n",
    "\n",
    "            image, results = mediapipe_detection(frame, holistic)\n",
    "            draw_landmarks(image, results)\n",
    "\n",
    "            \n",
    "            if display_text:\n",
    "                cv2.putText(image, display_text, (200, 200),\n",
    "                            cv2.FONT_HERSHEY_SIMPLEX, 3, (0, 255, 255), 4, cv2.LINE_AA)\n",
    "            else:\n",
    "                keypoints = extract_keypoints(results)\n",
    "                # print(keypoints)\n",
    "                sequence.append(keypoints)\n",
    "\n",
    "            cv2.imshow('OpenCV Feed', image)\n",
    "\n",
    "            if cv2.waitKey(10) & 0xFF == ord('q'):\n",
    "                cap.release()\n",
    "                cv2.destroyAllWindows()\n",
    "                break\n",
    "\n",
    "        except Exception as e:\n",
    "            print(\"An error occurred:\", e)\n",
    "            pass\n",
    "\n",
    "# print(len(sequence))\n",
    "print('action captured')\n",
    "\n",
    "for i in range(len(sequence) - 39 + 1):\n",
    "    sub_sequence = sequence[i:i + 39]\n",
    "\n",
    "    if len(sub_sequence) < 39:\n",
    "        continue\n",
    "\n",
    "    window = [sub_sequence[frame_num] for frame_num in range(10, 30)]\n",
    "    res = model.predict(np.expand_dims(window, axis=0))[0]\n",
    "\n",
    "    if res[np.argmax(res)] > threshold:\n",
    "        predictions.append(sign_word[np.argmax(res)])\n",
    "        if len(predictions) >= 20 and np.unique(predictions[-20:])[0] == sign_word[np.argmax(res)]:\n",
    "            if len(sentence) > 0:\n",
    "                if sign_word[np.argmax(res)] != sentence[-1]:\n",
    "                    sentence.append(sign_word[np.argmax(res)])\n",
    "                    predictions = []\n",
    "            else:\n",
    "                sentence.append(sign_word[np.argmax(res)])\n",
    "                predictions = []\n",
    "\n",
    "print(sentence)"
   ]
  },
  {
   "cell_type": "markdown",
   "metadata": {},
   "source": [
    "### For sentence with next"
   ]
  },
  {
   "cell_type": "code",
   "execution_count": 23,
   "metadata": {},
   "outputs": [
    {
     "name": "stdout",
     "output_type": "stream",
     "text": [
      "\u001b[1m1/1\u001b[0m \u001b[32m━━━━━━━━━━━━━━━━━━━━\u001b[0m\u001b[37m\u001b[0m \u001b[1m0s\u001b[0m 100ms/step\n",
      "සෙව්වා\n",
      "\u001b[1m1/1\u001b[0m \u001b[32m━━━━━━━━━━━━━━━━━━━━\u001b[0m\u001b[37m\u001b[0m \u001b[1m0s\u001b[0m 113ms/step\n",
      "සෙව්වා\n",
      "\u001b[1m1/1\u001b[0m \u001b[32m━━━━━━━━━━━━━━━━━━━━\u001b[0m\u001b[37m\u001b[0m \u001b[1m0s\u001b[0m 193ms/step\n",
      "none\n",
      "\u001b[1m1/1\u001b[0m \u001b[32m━━━━━━━━━━━━━━━━━━━━\u001b[0m\u001b[37m\u001b[0m \u001b[1m0s\u001b[0m 96ms/step\n",
      "සෙව්වා\n",
      "\u001b[1m1/1\u001b[0m \u001b[32m━━━━━━━━━━━━━━━━━━━━\u001b[0m\u001b[37m\u001b[0m \u001b[1m0s\u001b[0m 161ms/step\n",
      "none\n",
      "action captured\n",
      "['සෙව්වා', 'සෙව්වා', 'none', 'සෙව්වා', 'none']\n"
     ]
    }
   ],
   "source": [
    "cap = cv2.VideoCapture(0)\n",
    "\n",
    "sequence =[]\n",
    "sentence = []\n",
    "\n",
    "next_text_start_time = None\n",
    "next_text_duration = 1 \n",
    "\n",
    "with mp_holistic.Holistic(min_detection_confidence=0.5, min_tracking_confidence=0.5) as holistic:\n",
    "    start_time = time.time()\n",
    "    display_text = 'READY'\n",
    "    text_duration = 1  \n",
    "    text_sequence = ['READY', '1', '2', '3', 'GO']\n",
    "    text_index = 0\n",
    "\n",
    "    while cap.isOpened():\n",
    "        try:\n",
    "            ret, frame = cap.read()\n",
    "            if not ret:\n",
    "                print(\"Failed to grab frame\")\n",
    "                break\n",
    "\n",
    "            \n",
    "            if time.time() - start_time > text_duration:\n",
    "                text_index += 1\n",
    "                start_time = time.time()\n",
    "\n",
    "            \n",
    "            if text_index < len(text_sequence):\n",
    "                display_text = text_sequence[text_index]\n",
    "            else:\n",
    "                display_text = None\n",
    "\n",
    "            image, results = mediapipe_detection(frame, holistic)\n",
    "            draw_landmarks(image, results)\n",
    "\n",
    "            \n",
    "            if display_text:\n",
    "                cv2.putText(image, display_text, (200, 200),\n",
    "                            cv2.FONT_HERSHEY_SIMPLEX, 3, (0, 255, 255), 4, cv2.LINE_AA)\n",
    "            else:\n",
    "                \n",
    "                keypoints = extract_keypoints(results)\n",
    "                # print(keypoints)\n",
    "                sequence.append(keypoints)\n",
    "                if len(sequence) >= 39:\n",
    "                    # break\n",
    "                    window = []\n",
    "                    # for frame_num in range(10,30, 6):\n",
    "                    for frame_num in range(10,30): # for 20 frame model\n",
    "                        # print(frame_num)\n",
    "                        window.append(sequence[frame_num])\n",
    "\n",
    "                    window =np.array(window)\n",
    "                    reshaped_window = np.expand_dims(window, axis=0)\n",
    "\n",
    "                    prediction =model.predict(np.array(reshaped_window))[0]\n",
    "\n",
    "                    # if prediction[np.argmax(prediction)] > 0.3:\n",
    "\n",
    "                    print(sign_word[np.argmax(prediction)])\n",
    "\n",
    "                    sentence.append(sign_word[np.argmax(prediction)])\n",
    "\n",
    "                    # else:\n",
    "                    #     print(\"not clear\")\n",
    "                    #     print(prediction[np.argmax(prediction)])\n",
    "\n",
    "\n",
    "\n",
    "                    cv2.putText(image, \"next\", (200, 200),\n",
    "                            cv2.FONT_HERSHEY_SIMPLEX, 3, (0, 255, 255), 4, cv2.LINE_AA)\n",
    "                    \n",
    "                    next_text_start_time = time.time()\n",
    "                    sequence =[]\n",
    "\n",
    "\n",
    "            if next_text_start_time and (time.time() - next_text_start_time < next_text_duration):\n",
    "                cv2.putText(image, \"next\", (200, 200),\n",
    "                            cv2.FONT_HERSHEY_SIMPLEX, 3, (0, 255, 255), 4, cv2.LINE_AA)\n",
    "                \n",
    "\n",
    "            cv2.imshow('OpenCV Feed', image)    \n",
    "\n",
    "            if cv2.waitKey(10) & 0xFF == ord('q'):\n",
    "                break\n",
    "\n",
    "        except Exception as e:\n",
    "            print(\"An error occurred:\", e)\n",
    "            pass\n",
    "    cap.release()\n",
    "    cv2.destroyAllWindows()\n",
    "\n",
    "\n",
    "print('action captured')\n",
    "print(sentence)\n",
    "\n",
    "\n",
    "\n"
   ]
  },
  {
   "cell_type": "code",
   "execution_count": null,
   "metadata": {},
   "outputs": [
    {
     "name": "stdout",
     "output_type": "stream",
     "text": [
      "\u001b[1m1/1\u001b[0m \u001b[32m━━━━━━━━━━━━━━━━━━━━\u001b[0m\u001b[37m\u001b[0m \u001b[1m0s\u001b[0m 48ms/step\n"
     ]
    }
   ],
   "source": [
    "prediction =model.predict(np.array(reshaped_window))[0]"
   ]
  },
  {
   "cell_type": "code",
   "execution_count": null,
   "metadata": {},
   "outputs": [
    {
     "data": {
      "text/plain": [
       "array([1.6746070e-03, 4.2386702e-03, 3.4010160e-04, 2.7251546e-03,\n",
       "       8.0260597e-03, 6.6352682e-03, 5.6252358e-03, 1.9393887e-02,\n",
       "       2.8515533e-01, 8.2902603e-02, 1.1482708e-02, 8.2599208e-02,\n",
       "       7.3352404e-02, 8.2846900e-04, 7.6797669e-04, 6.8548089e-03,\n",
       "       2.9821639e-04, 8.5034836e-03, 1.1603448e-03, 2.4806000e-03,\n",
       "       3.3671760e-03, 2.4486028e-03, 3.5938218e-01, 1.3607995e-02,\n",
       "       2.2413956e-03, 9.0061119e-03, 1.5495213e-03, 3.3519606e-03],\n",
       "      dtype=float32)"
      ]
     },
     "execution_count": 43,
     "metadata": {},
     "output_type": "execute_result"
    }
   ],
   "source": [
    "prediction"
   ]
  },
  {
   "cell_type": "code",
   "execution_count": null,
   "metadata": {},
   "outputs": [
    {
     "data": {
      "text/plain": [
       "0.35938218"
      ]
     },
     "execution_count": 42,
     "metadata": {},
     "output_type": "execute_result"
    }
   ],
   "source": [
    "max(prediction)"
   ]
  },
  {
   "cell_type": "code",
   "execution_count": null,
   "metadata": {},
   "outputs": [
    {
     "data": {
      "text/plain": [
       "0.75223666"
      ]
     },
     "execution_count": 32,
     "metadata": {},
     "output_type": "execute_result"
    }
   ],
   "source": [
    "prediction[0][np.argmax(prediction)]"
   ]
  },
  {
   "cell_type": "code",
   "execution_count": null,
   "metadata": {},
   "outputs": [],
   "source": [
    "cap.release()\n",
    "cv2.destroyAllWindows()"
   ]
  }
 ],
 "metadata": {
  "kernelspec": {
   "display_name": "sign_language",
   "language": "python",
   "name": "python3"
  },
  "language_info": {
   "codemirror_mode": {
    "name": "ipython",
    "version": 3
   },
   "file_extension": ".py",
   "mimetype": "text/x-python",
   "name": "python",
   "nbconvert_exporter": "python",
   "pygments_lexer": "ipython3",
   "version": "3.9.19"
  }
 },
 "nbformat": 4,
 "nbformat_minor": 2
}
